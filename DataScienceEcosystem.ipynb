{
 "cells": [
  {
   "cell_type": "markdown",
   "id": "7effefb3-b738-4174-a6ea-60e4b0549654",
   "metadata": {},
   "source": [
    "# Data Science Tools and Ecosystem"
   ]
  },
  {
   "cell_type": "markdown",
   "id": "d5efe36d-b418-4d8d-a75f-504a878dccbd",
   "metadata": {},
   "source": [
    "#### In this notebook, Data Science Tools and Ecosystem are summarized.\n",
    "\n"
   ]
  },
  {
   "cell_type": "markdown",
   "id": "662ccbfb-6d30-43ae-b7c6-93d18523fa22",
   "metadata": {},
   "source": [
    "**Objectives:**\n",
    "* popular languages for Data Science\n",
    "* Libraries used by Data Scientists\n",
    "* Arithmetic expressions in Python"
   ]
  },
  {
   "cell_type": "markdown",
   "id": "38fe8b11-4013-420c-a8f6-a15ac813cfe6",
   "metadata": {},
   "source": [
    "##### Some of the popular languages that Data Scientists use are:\n",
    "1. Python\n",
    "2. R\n",
    "3. Julia"
   ]
  },
  {
   "cell_type": "markdown",
   "id": "0c5383ef-576e-4ff0-85c8-d34604fb533a",
   "metadata": {},
   "source": [
    "##### Some of the commonly used libraries used by Data Scientists include:\n",
    "1. Kiras\n",
    "2. Caret\n",
    "3. Pytorch "
   ]
  },
  {
   "cell_type": "markdown",
   "id": "01ba066a-8f5d-4d17-b831-53e68415adfb",
   "metadata": {},
   "source": [
    "| Data Science Tools | \n",
    "|--------|\n",
    "| Jupiter Notebook |  \n",
    "| Apache Spark | \n",
    "| Numpy |  "
   ]
  },
  {
   "cell_type": "markdown",
   "id": "516900b5-df4e-4c39-82de-8438f50ee714",
   "metadata": {},
   "source": [
    "### Below are a few examples of evaluating arithmetic expressions in Python.\n",
    "\n"
   ]
  },
  {
   "cell_type": "code",
   "execution_count": 3,
   "id": "9a3a0c30-b00d-4d29-9d11-edc22fe3f908",
   "metadata": {},
   "outputs": [
    {
     "data": {
      "text/plain": [
       "17"
      ]
     },
     "execution_count": 3,
     "metadata": {},
     "output_type": "execute_result"
    }
   ],
   "source": [
    "# This a simple arithmetic expression to mutiply then add integers.\n",
    "(3*4)+5"
   ]
  },
  {
   "cell_type": "code",
   "execution_count": 5,
   "id": "d9273a7e-435a-4d1e-a61a-e5df57dde4e5",
   "metadata": {},
   "outputs": [
    {
     "data": {
      "text/plain": [
       "3"
      ]
     },
     "execution_count": 5,
     "metadata": {},
     "output_type": "execute_result"
    }
   ],
   "source": [
    "#This will convert 200 minutes to hours by diving by 60.\n",
    "200//60 "
   ]
  },
  {
   "cell_type": "markdown",
   "id": "7d9444a4-39d4-4aef-99e2-a7b7c02bb152",
   "metadata": {},
   "source": [
    "## Author:\n",
    "Imane "
   ]
  },
  {
   "cell_type": "code",
   "execution_count": null,
   "id": "399598d8-fa58-4c27-be6c-3c0a7b7ea9ae",
   "metadata": {},
   "outputs": [],
   "source": []
  }
 ],
 "metadata": {
  "kernelspec": {
   "display_name": "Python 3 (ipykernel)",
   "language": "python",
   "name": "python3"
  },
  "language_info": {
   "codemirror_mode": {
    "name": "ipython",
    "version": 3
   },
   "file_extension": ".py",
   "mimetype": "text/x-python",
   "name": "python",
   "nbconvert_exporter": "python",
   "pygments_lexer": "ipython3",
   "version": "3.12.8"
  }
 },
 "nbformat": 4,
 "nbformat_minor": 5
}
